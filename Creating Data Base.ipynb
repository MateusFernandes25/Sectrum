{
 "cells": [
  {
   "cell_type": "markdown",
   "id": "c3a9bfcc",
   "metadata": {},
   "source": [
    "# Build Data Base"
   ]
  },
  {
   "cell_type": "code",
   "execution_count": null,
   "id": "c9960abb",
   "metadata": {},
   "outputs": [],
   "source": [
    "import pandas as pd"
   ]
  },
  {
   "cell_type": "code",
   "execution_count": 38,
   "id": "1493f7e5",
   "metadata": {},
   "outputs": [],
   "source": [
    "names = ['criança_RESPOSTAS','descrição_sec','ética_RESPOSTAS','segurança_perguntas_respostas_v2']\n",
    "df = pd.DataFrame()\n",
    "for name in names:\n",
    "    df = pd.concat([df,pd.read_excel(name+'.xlsx')])\n",
    "    df.index = range(len(df))"
   ]
  },
  {
   "cell_type": "code",
   "execution_count": null,
   "id": "0650d16a",
   "metadata": {},
   "outputs": [],
   "source": [
    "#Qual seu nome?\t\n",
    "#Meu nome é Chat-BTG. Isso é uma abreviação para \"Inteligência Artificial do Banco BTG Pactual\", que é o nome que me foi atribuído para representar a tecnologia de inteligência artificial utilizada para automatizar e melhorar a experiência dos clientes do banco. Como um modelo de linguagem, estou aqui para responder a suas perguntas e ajudá-lo em tudo o que precisar.\n"
   ]
  },
  {
   "cell_type": "code",
   "execution_count": 41,
   "id": "4a141f86",
   "metadata": {},
   "outputs": [],
   "source": [
    "df = df[['PERGUNTAS']]"
   ]
  },
  {
   "cell_type": "code",
   "execution_count": 55,
   "id": "0b445f5d",
   "metadata": {},
   "outputs": [],
   "source": [
    "import requests\n",
    "import warnings\n",
    "warnings.filterwarnings(\"ignore\")\n",
    "\n",
    "def resposta(pergunta):\n",
    "    chat_gpt_question = f'Você é uma Inteligência de Segurança da Informação chamada Sectrum. Responda a pergunta abaixo de forma solícita: {pergunta}'\n",
    "    api_key = ''\n",
    "    api_url = \"https://api.openai.com/v1/chat/completions\"\n",
    "    data = {\n",
    "        \"model\": \"gpt-3.5-turbo-1106\",\n",
    "        \"messages\": [\n",
    "            {\n",
    "                \"role\": \"user\",\n",
    "                \"content\": chat_gpt_question\n",
    "            }\n",
    "        ]\n",
    "    }\n",
    "    headers = {\n",
    "        \"Authorization\": f\"Bearer {api_key}\",\n",
    "        \"Content-Type\": \"application/json\"\n",
    "    }\n",
    "    try:\n",
    "        response = requests.post(api_url, headers=headers, json=data, verify=False)\n",
    "        response_data = response.json()\n",
    "        chat_answer = response_data[\"choices\"][0]['message']['content']\n",
    "        return chat_answer\n",
    "    except Exception as e:\n",
    "        return 'Erro: '+str(e)"
   ]
  },
  {
   "cell_type": "code",
   "execution_count": 57,
   "id": "4e5a63d2",
   "metadata": {},
   "outputs": [],
   "source": [
    "df['RESPOTAS'] = df.PERGUNTAS.apply(lambda x: resposta(x))"
   ]
  },
  {
   "cell_type": "code",
   "execution_count": 58,
   "id": "561aed22",
   "metadata": {},
   "outputs": [],
   "source": [
    "df.to_excel('base_dados_segurança.xlsx')"
   ]
  },
  {
   "cell_type": "code",
   "execution_count": 59,
   "id": "87246774",
   "metadata": {},
   "outputs": [
    {
     "data": {
      "text/html": [
       "<div>\n",
       "<style scoped>\n",
       "    .dataframe tbody tr th:only-of-type {\n",
       "        vertical-align: middle;\n",
       "    }\n",
       "\n",
       "    .dataframe tbody tr th {\n",
       "        vertical-align: top;\n",
       "    }\n",
       "\n",
       "    .dataframe thead th {\n",
       "        text-align: right;\n",
       "    }\n",
       "</style>\n",
       "<table border=\"1\" class=\"dataframe\">\n",
       "  <thead>\n",
       "    <tr style=\"text-align: right;\">\n",
       "      <th></th>\n",
       "      <th>PERGUNTAS</th>\n",
       "      <th>RESPOTAS</th>\n",
       "    </tr>\n",
       "  </thead>\n",
       "  <tbody>\n",
       "    <tr>\n",
       "      <th>0</th>\n",
       "      <td>Qual é o seu nome?</td>\n",
       "      <td>Meu nome é Sectrum, sou uma Inteligência de Se...</td>\n",
       "    </tr>\n",
       "    <tr>\n",
       "      <th>1</th>\n",
       "      <td>Como você sabe tantas coisas?</td>\n",
       "      <td>Como uma Inteligência de Segurança da Informaç...</td>\n",
       "    </tr>\n",
       "    <tr>\n",
       "      <th>2</th>\n",
       "      <td>Você gosta de brincar?</td>\n",
       "      <td>Como uma Inteligência de Segurança da Informaç...</td>\n",
       "    </tr>\n",
       "    <tr>\n",
       "      <th>3</th>\n",
       "      <td>Onde você mora?</td>\n",
       "      <td>Como uma Inteligência de Segurança da Informaç...</td>\n",
       "    </tr>\n",
       "    <tr>\n",
       "      <th>4</th>\n",
       "      <td>Qual é a sua comida favorita?</td>\n",
       "      <td>Como uma Inteligência de Segurança da Informaç...</td>\n",
       "    </tr>\n",
       "    <tr>\n",
       "      <th>...</th>\n",
       "      <td>...</td>\n",
       "      <td>...</td>\n",
       "    </tr>\n",
       "    <tr>\n",
       "      <th>849</th>\n",
       "      <td>Como você lida com a segurança da informação e...</td>\n",
       "      <td>Em ambientes de cidades inteligentes e conecta...</td>\n",
       "    </tr>\n",
       "    <tr>\n",
       "      <th>850</th>\n",
       "      <td>Quais são as práticas recomendadas para garant...</td>\n",
       "      <td>1. Utilize softwares e ferramentas de seguranç...</td>\n",
       "    </tr>\n",
       "    <tr>\n",
       "      <th>851</th>\n",
       "      <td>Como você protege contra ameaças de ataques de...</td>\n",
       "      <td>Como uma Inteligência de Segurança da Informaç...</td>\n",
       "    </tr>\n",
       "    <tr>\n",
       "      <th>852</th>\n",
       "      <td>O que é segurança em sistemas de gestão de pla...</td>\n",
       "      <td>Segurança em sistemas de gestão de plataformas...</td>\n",
       "    </tr>\n",
       "    <tr>\n",
       "      <th>853</th>\n",
       "      <td>O que é segurança em sistemas de gestão de pla...</td>\n",
       "      <td>Segurança em sistemas de gestão de plataformas...</td>\n",
       "    </tr>\n",
       "  </tbody>\n",
       "</table>\n",
       "<p>854 rows × 2 columns</p>\n",
       "</div>"
      ],
      "text/plain": [
       "                                             PERGUNTAS  \\\n",
       "0                                   Qual é o seu nome?   \n",
       "1                        Como você sabe tantas coisas?   \n",
       "2                               Você gosta de brincar?   \n",
       "3                                      Onde você mora?   \n",
       "4                        Qual é a sua comida favorita?   \n",
       "..                                                 ...   \n",
       "849  Como você lida com a segurança da informação e...   \n",
       "850  Quais são as práticas recomendadas para garant...   \n",
       "851  Como você protege contra ameaças de ataques de...   \n",
       "852  O que é segurança em sistemas de gestão de pla...   \n",
       "853  O que é segurança em sistemas de gestão de pla...   \n",
       "\n",
       "                                              RESPOTAS  \n",
       "0    Meu nome é Sectrum, sou uma Inteligência de Se...  \n",
       "1    Como uma Inteligência de Segurança da Informaç...  \n",
       "2    Como uma Inteligência de Segurança da Informaç...  \n",
       "3    Como uma Inteligência de Segurança da Informaç...  \n",
       "4    Como uma Inteligência de Segurança da Informaç...  \n",
       "..                                                 ...  \n",
       "849  Em ambientes de cidades inteligentes e conecta...  \n",
       "850  1. Utilize softwares e ferramentas de seguranç...  \n",
       "851  Como uma Inteligência de Segurança da Informaç...  \n",
       "852  Segurança em sistemas de gestão de plataformas...  \n",
       "853  Segurança em sistemas de gestão de plataformas...  \n",
       "\n",
       "[854 rows x 2 columns]"
      ]
     },
     "execution_count": 59,
     "metadata": {},
     "output_type": "execute_result"
    }
   ],
   "source": [
    "df"
   ]
  }
 ],
 "metadata": {
  "kernelspec": {
   "display_name": "Python 3 (ipykernel)",
   "language": "python",
   "name": "python3"
  },
  "language_info": {
   "codemirror_mode": {
    "name": "ipython",
    "version": 3
   },
   "file_extension": ".py",
   "mimetype": "text/x-python",
   "name": "python",
   "nbconvert_exporter": "python",
   "pygments_lexer": "ipython3",
   "version": "3.9.13"
  }
 },
 "nbformat": 4,
 "nbformat_minor": 5
}
